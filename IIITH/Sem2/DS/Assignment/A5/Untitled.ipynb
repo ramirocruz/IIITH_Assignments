{
 "cells": [
  {
   "cell_type": "code",
   "execution_count": 108,
   "metadata": {},
   "outputs": [],
   "source": [
    "import pyspark\n",
    "from pyspark.sql import SparkSession\n",
    "from pyspark.sql.functions import *\n",
    "import pandas as pd\n",
    "import os\n",
    "import glob"
   ]
  },
  {
   "cell_type": "code",
   "execution_count": 2,
   "metadata": {},
   "outputs": [],
   "source": [
    "spark = SparkSession.builder.master(\"local[1]\") \\\n",
    "                    .appName('lab5') \\\n",
    "                    .getOrCreate()"
   ]
  },
  {
   "cell_type": "code",
   "execution_count": 70,
   "metadata": {},
   "outputs": [],
   "source": [
    "df = spark.read.csv('Dataset/airports.csv', inferSchema=True, header=True)\n"
   ]
  },
  {
   "cell_type": "code",
   "execution_count": 71,
   "metadata": {},
   "outputs": [
    {
     "name": "stdout",
     "output_type": "stream",
     "text": [
      "root\n",
      " |-- ID: integer (nullable = true)\n",
      " |-- TYPE: string (nullable = true)\n",
      " |-- NAME: string (nullable = true)\n",
      " |-- LATITUDE: integer (nullable = true)\n",
      " |-- LONGITUDE: integer (nullable = true)\n",
      " |-- COUNTRY: string (nullable = true)\n",
      " |-- REGION: string (nullable = true)\n",
      "\n"
     ]
    }
   ],
   "source": [
    "df.printSchema()"
   ]
  },
  {
   "cell_type": "code",
   "execution_count": 82,
   "metadata": {},
   "outputs": [],
   "source": [
    "cpu=2\n"
   ]
  },
  {
   "cell_type": "code",
   "execution_count": 73,
   "metadata": {},
   "outputs": [],
   "source": [
    "df_new = df.repartition(cpu)"
   ]
  },
  {
   "cell_type": "code",
   "execution_count": 113,
   "metadata": {
    "scrolled": true
   },
   "outputs": [],
   "source": [
    "df_new.groupBy(\"Country\").count().selectExpr(\"Country\",\"count as Airports\").sort(col(\"count\").desc()).limit(1).toPandas().to_csv(\"p2.csv\")"
   ]
  },
  {
   "cell_type": "code",
   "execution_count": 114,
   "metadata": {
    "scrolled": true
   },
   "outputs": [],
   "source": [
    "df_new.groupby(\"Country\").count().withColumnRenamed(\"count\",\"Airports\").coalesce(1).write.format(\"com.databricks.spark.csv\").option(\"header\", True).save(\"mydata1\")\n",
    "for file in glob.glob(\"mydata1/*.csv\"):\n",
    "    os.rename(file,\"p1.csv\")\n",
    "import shutil\n",
    "shutil.rmtree(\"mydata1\", ignore_errors=True)"
   ]
  },
  {
   "cell_type": "code",
   "execution_count": 135,
   "metadata": {},
   "outputs": [],
   "source": [
    "df_new.select(\"Name\",\"Latitude\",\"Longitude\").filter(\"(Latitude between 10 and 90) and (Longitude between -90 and -10)\").coalesce(1).write.format(\"com.databricks.spark.csv\").option(\"header\", True).save(\"mydata3\")\n",
    "for file in glob.glob(\"mydata3/*.csv\"):\n",
    "    os.rename(file,\"p3.csv\")\n",
    "import shutil\n",
    "shutil.rmtree(\"mydata3\", ignore_errors=True)"
   ]
  },
  {
   "cell_type": "code",
   "execution_count": 136,
   "metadata": {},
   "outputs": [],
   "source": [
    "data = pd.read_csv(\"p3.csv\")"
   ]
  },
  {
   "cell_type": "code",
   "execution_count": 139,
   "metadata": {},
   "outputs": [
    {
     "data": {
      "text/plain": [
       "count    12589.000000\n",
       "mean       -79.527524\n",
       "std         10.300921\n",
       "min        -90.000000\n",
       "25%        -86.000000\n",
       "50%        -81.000000\n",
       "75%        -76.000000\n",
       "max        -10.000000\n",
       "Name: Longitude, dtype: float64"
      ]
     },
     "execution_count": 139,
     "metadata": {},
     "output_type": "execute_result"
    }
   ],
   "source": []
  },
  {
   "cell_type": "code",
   "execution_count": null,
   "metadata": {},
   "outputs": [],
   "source": []
  }
 ],
 "metadata": {
  "kernelspec": {
   "display_name": "Python 3",
   "language": "python",
   "name": "python3"
  },
  "language_info": {
   "codemirror_mode": {
    "name": "ipython",
    "version": 3
   },
   "file_extension": ".py",
   "mimetype": "text/x-python",
   "name": "python",
   "nbconvert_exporter": "python",
   "pygments_lexer": "ipython3",
   "version": "3.7.6"
  }
 },
 "nbformat": 4,
 "nbformat_minor": 4
}
