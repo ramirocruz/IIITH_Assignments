{
 "cells": [
  {
   "cell_type": "code",
   "execution_count": 1,
   "metadata": {
    "executionInfo": {
     "elapsed": 752,
     "status": "ok",
     "timestamp": 1618845739183,
     "user": {
      "displayName": "Zeref Vermillion",
      "photoUrl": "https://lh3.googleusercontent.com/a-/AOh14GgEyDCT_m-7oUNjEil29TuezEGtJo4Ouludo07I=s64",
      "userId": "00573594819058720023"
     },
     "user_tz": -330
    },
    "id": "iXrfYupezUil"
   },
   "outputs": [],
   "source": [
    "import tensorflow as tf\n",
    "from tensorflow import keras\n",
    "from keras import backend as K\n",
    "import numpy as np\n",
    "from sklearn.model_selection import train_test_split\n",
    "from sklearn.metrics import confusion_matrix,classification_report\n",
    "import matplotlib.pyplot as plt\n",
    "%matplotlib inline"
   ]
  },
  {
   "cell_type": "code",
   "execution_count": 2,
   "metadata": {
    "executionInfo": {
     "elapsed": 2403,
     "status": "ok",
     "timestamp": 1618845740842,
     "user": {
      "displayName": "Zeref Vermillion",
      "photoUrl": "https://lh3.googleusercontent.com/a-/AOh14GgEyDCT_m-7oUNjEil29TuezEGtJo4Ouludo07I=s64",
      "userId": "00573594819058720023"
     },
     "user_tz": -330
    },
    "id": "-OEVkPYZ1aCj"
   },
   "outputs": [
    {
     "name": "stdout",
     "output_type": "stream",
     "text": [
      "Downloading data from https://storage.googleapis.com/tensorflow/tf-keras-datasets/mnist.npz\n",
      "11493376/11490434 [==============================] - 3s 0us/step\n"
     ]
    }
   ],
   "source": [
    "(X_train,Y_train),(X_test,Y_test) = keras.datasets.mnist.load_data()"
   ]
  },
  {
   "cell_type": "code",
   "execution_count": 3,
   "metadata": {
    "colab": {
     "base_uri": "https://localhost:8080/"
    },
    "executionInfo": {
     "elapsed": 2398,
     "status": "ok",
     "timestamp": 1618845740843,
     "user": {
      "displayName": "Zeref Vermillion",
      "photoUrl": "https://lh3.googleusercontent.com/a-/AOh14GgEyDCT_m-7oUNjEil29TuezEGtJo4Ouludo07I=s64",
      "userId": "00573594819058720023"
     },
     "user_tz": -330
    },
    "id": "uXZiiW7k4vvk",
    "outputId": "5bae41bb-ba9f-450d-c069-00f0a52fabf0"
   },
   "outputs": [
    {
     "name": "stdout",
     "output_type": "stream",
     "text": [
      "X_train shape:  (60000, 28, 28)\n",
      "Y_train shape  (60000,)\n",
      "X_test shape:  (10000, 28, 28)\n",
      "Y_test shape:  (10000,)\n"
     ]
    }
   ],
   "source": [
    "print(\"X_train shape: \",X_train.shape)\n",
    "print(\"Y_train shape \",Y_train.shape)\n",
    "print(\"X_test shape: \",X_test.shape)\n",
    "print(\"Y_test shape: \",Y_test.shape)"
   ]
  },
  {
   "cell_type": "code",
   "execution_count": 4,
   "metadata": {
    "executionInfo": {
     "elapsed": 2392,
     "status": "ok",
     "timestamp": 1618845740843,
     "user": {
      "displayName": "Zeref Vermillion",
      "photoUrl": "https://lh3.googleusercontent.com/a-/AOh14GgEyDCT_m-7oUNjEil29TuezEGtJo4Ouludo07I=s64",
      "userId": "00573594819058720023"
     },
     "user_tz": -330
    },
    "id": "omDorC8q8ZUr"
   },
   "outputs": [],
   "source": [
    "X = np.append(X_train,X_test,axis=0)\n",
    "Y = np.append(Y_train,Y_test,axis=0)"
   ]
  },
  {
   "cell_type": "code",
   "execution_count": 5,
   "metadata": {
    "executionInfo": {
     "elapsed": 2388,
     "status": "ok",
     "timestamp": 1618845740844,
     "user": {
      "displayName": "Zeref Vermillion",
      "photoUrl": "https://lh3.googleusercontent.com/a-/AOh14GgEyDCT_m-7oUNjEil29TuezEGtJo4Ouludo07I=s64",
      "userId": "00573594819058720023"
     },
     "user_tz": -330
    },
    "id": "pndy85RSYnNm"
   },
   "outputs": [],
   "source": [
    "X = X.astype(\"float32\")/255.0"
   ]
  },
  {
   "cell_type": "code",
   "execution_count": 6,
   "metadata": {
    "executionInfo": {
     "elapsed": 2385,
     "status": "ok",
     "timestamp": 1618845740845,
     "user": {
      "displayName": "Zeref Vermillion",
      "photoUrl": "https://lh3.googleusercontent.com/a-/AOh14GgEyDCT_m-7oUNjEil29TuezEGtJo4Ouludo07I=s64",
      "userId": "00573594819058720023"
     },
     "user_tz": -330
    },
    "id": "645GxvW13OAE"
   },
   "outputs": [],
   "source": [
    "X_train,X_test,Y_train,Y_test = train_test_split(X,Y,test_size=0.3,random_state = 8)"
   ]
  },
  {
   "cell_type": "code",
   "execution_count": 7,
   "metadata": {
    "colab": {
     "base_uri": "https://localhost:8080/"
    },
    "executionInfo": {
     "elapsed": 2383,
     "status": "ok",
     "timestamp": 1618845740846,
     "user": {
      "displayName": "Zeref Vermillion",
      "photoUrl": "https://lh3.googleusercontent.com/a-/AOh14GgEyDCT_m-7oUNjEil29TuezEGtJo4Ouludo07I=s64",
      "userId": "00573594819058720023"
     },
     "user_tz": -330
    },
    "id": "m_MJw5obuDSx",
    "outputId": "fa40d349-fe0d-4d43-a549-0c75b6d51cae"
   },
   "outputs": [
    {
     "data": {
      "text/plain": [
       "((49000, 28, 28, 1), (21000, 28, 28, 1))"
      ]
     },
     "execution_count": 7,
     "metadata": {},
     "output_type": "execute_result"
    }
   ],
   "source": [
    "X_train = X_train.reshape(X_train.shape[0],28,28,1)\n",
    "X_test = X_test.reshape(X_test.shape[0],28,28,1)\n",
    "X_train.shape, X_test.shape"
   ]
  },
  {
   "cell_type": "code",
   "execution_count": 8,
   "metadata": {
    "executionInfo": {
     "elapsed": 2380,
     "status": "ok",
     "timestamp": 1618845740847,
     "user": {
      "displayName": "Zeref Vermillion",
      "photoUrl": "https://lh3.googleusercontent.com/a-/AOh14GgEyDCT_m-7oUNjEil29TuezEGtJo4Ouludo07I=s64",
      "userId": "00573594819058720023"
     },
     "user_tz": -330
    },
    "id": "iujcB6i6-K_x"
   },
   "outputs": [],
   "source": [
    "Y_train = Y_train.reshape(-1,)\n",
    "Y_test = Y_test.reshape(-1,)"
   ]
  },
  {
   "cell_type": "code",
   "execution_count": 9,
   "metadata": {
    "colab": {
     "base_uri": "https://localhost:8080/"
    },
    "executionInfo": {
     "elapsed": 2376,
     "status": "ok",
     "timestamp": 1618845740847,
     "user": {
      "displayName": "Zeref Vermillion",
      "photoUrl": "https://lh3.googleusercontent.com/a-/AOh14GgEyDCT_m-7oUNjEil29TuezEGtJo4Ouludo07I=s64",
      "userId": "00573594819058720023"
     },
     "user_tz": -330
    },
    "id": "YlO-cCWG36Gf",
    "outputId": "415d14aa-eac6-4135-8186-ed3553a5ce02"
   },
   "outputs": [
    {
     "name": "stdout",
     "output_type": "stream",
     "text": [
      "X_train shape:  (49000, 28, 28, 1)\n",
      "Y_train shape  (49000,)\n",
      "X_test shape:  (21000, 28, 28, 1)\n",
      "Y_test shape:  (21000,)\n"
     ]
    }
   ],
   "source": [
    "print(\"X_train shape: \",X_train.shape)\n",
    "print(\"Y_train shape \",Y_train.shape)\n",
    "print(\"X_test shape: \",X_test.shape)\n",
    "print(\"Y_test shape: \",Y_test.shape)"
   ]
  },
  {
   "cell_type": "code",
   "execution_count": 10,
   "metadata": {
    "colab": {
     "base_uri": "https://localhost:8080/"
    },
    "executionInfo": {
     "elapsed": 2372,
     "status": "ok",
     "timestamp": 1618845740848,
     "user": {
      "displayName": "Zeref Vermillion",
      "photoUrl": "https://lh3.googleusercontent.com/a-/AOh14GgEyDCT_m-7oUNjEil29TuezEGtJo4Ouludo07I=s64",
      "userId": "00573594819058720023"
     },
     "user_tz": -330
    },
    "id": "y61X7eEzA_lv",
    "outputId": "61f13ff7-7c5d-4723-e303-55a6165f01b5"
   },
   "outputs": [
    {
     "data": {
      "text/plain": [
       "(array([0, 1, 2, 3, 4, 5, 6, 7, 8, 9], dtype=uint8),\n",
       " array([4788, 5505, 4935, 5009, 4760, 4362, 4875, 5118, 4793, 4855]))"
      ]
     },
     "execution_count": 10,
     "metadata": {},
     "output_type": "execute_result"
    }
   ],
   "source": [
    "np.unique(Y_train,return_counts=True)"
   ]
  },
  {
   "cell_type": "code",
   "execution_count": 11,
   "metadata": {
    "executionInfo": {
     "elapsed": 2367,
     "status": "ok",
     "timestamp": 1618845740848,
     "user": {
      "displayName": "Zeref Vermillion",
      "photoUrl": "https://lh3.googleusercontent.com/a-/AOh14GgEyDCT_m-7oUNjEil29TuezEGtJo4Ouludo07I=s64",
      "userId": "00573594819058720023"
     },
     "user_tz": -330
    },
    "id": "htQoFMwIlCWT"
   },
   "outputs": [],
   "source": [
    "def get_pairs(X,Y):\n",
    "  labels_index = []\n",
    "  for i in range(10):\n",
    "    idx = np.where(Y==i)[0]\n",
    "    labels_index.append(idx)\n",
    "\n",
    "  X_new = []\n",
    "  Y_new = []\n",
    "  for i in range(len(X)):\n",
    "    simidx = np.random.choice(labels_index[Y[i]])\n",
    "    diffidx = np.random.choice([x for x in range(len(labels_index)) if(x != i)])\n",
    "    diffidx = np.random.choice(labels_index[diffidx])\n",
    "    X_new.append([X[i],X[simidx]])\n",
    "    Y_new.append(1)\n",
    "    X_new.append([X[i],X[diffidx]])\n",
    "    Y_new.append(0)\n",
    "  \n",
    "  return np.array(X_new),np.array(Y_new)\n",
    "\n"
   ]
  },
  {
   "cell_type": "code",
   "execution_count": 12,
   "metadata": {
    "executionInfo": {
     "elapsed": 3843,
     "status": "ok",
     "timestamp": 1618845742327,
     "user": {
      "displayName": "Zeref Vermillion",
      "photoUrl": "https://lh3.googleusercontent.com/a-/AOh14GgEyDCT_m-7oUNjEil29TuezEGtJo4Ouludo07I=s64",
      "userId": "00573594819058720023"
     },
     "user_tz": -330
    },
    "id": "t_Ia3T7Vbqxn"
   },
   "outputs": [],
   "source": [
    "X_new,Y_new = get_pairs(X_train,Y_train)"
   ]
  },
  {
   "cell_type": "code",
   "execution_count": 13,
   "metadata": {
    "executionInfo": {
     "elapsed": 3841,
     "status": "ok",
     "timestamp": 1618845742329,
     "user": {
      "displayName": "Zeref Vermillion",
      "photoUrl": "https://lh3.googleusercontent.com/a-/AOh14GgEyDCT_m-7oUNjEil29TuezEGtJo4Ouludo07I=s64",
      "userId": "00573594819058720023"
     },
     "user_tz": -330
    },
    "id": "-Ti5cyriffCN"
   },
   "outputs": [],
   "source": [
    "def get_euc_dist(X):\n",
    "  # print(X.shape)\n",
    "  A,B = X\n",
    "  # print(A.shape,B.shape)\n",
    "  tempsum = K.sum(K.square(A-B),axis = 1,keepdims=True)\n",
    "  return K.sqrt(K.maximum(tempsum,K.epsilon()))"
   ]
  },
  {
   "cell_type": "code",
   "execution_count": null,
   "metadata": {
    "executionInfo": {
     "elapsed": 3839,
     "status": "ok",
     "timestamp": 1618845742330,
     "user": {
      "displayName": "Zeref Vermillion",
      "photoUrl": "https://lh3.googleusercontent.com/a-/AOh14GgEyDCT_m-7oUNjEil29TuezEGtJo4Ouludo07I=s64",
      "userId": "00573594819058720023"
     },
     "user_tz": -330
    },
    "id": "99bDBb5-cYq5"
   },
   "outputs": [],
   "source": []
  },
  {
   "cell_type": "code",
   "execution_count": 14,
   "metadata": {
    "colab": {
     "base_uri": "https://localhost:8080/"
    },
    "executionInfo": {
     "elapsed": 3836,
     "status": "ok",
     "timestamp": 1618845742331,
     "user": {
      "displayName": "Zeref Vermillion",
      "photoUrl": "https://lh3.googleusercontent.com/a-/AOh14GgEyDCT_m-7oUNjEil29TuezEGtJo4Ouludo07I=s64",
      "userId": "00573594819058720023"
     },
     "user_tz": -330
    },
    "id": "E9K35WebnQT2",
    "outputId": "6e7725f9-b848-4487-f818-14e14bacfb9f"
   },
   "outputs": [
    {
     "data": {
      "text/plain": [
       "(98000,)"
      ]
     },
     "execution_count": 14,
     "metadata": {},
     "output_type": "execute_result"
    }
   ],
   "source": [
    "Y_new.shape"
   ]
  },
  {
   "cell_type": "code",
   "execution_count": 15,
   "metadata": {
    "executionInfo": {
     "elapsed": 4191,
     "status": "ok",
     "timestamp": 1618845742690,
     "user": {
      "displayName": "Zeref Vermillion",
      "photoUrl": "https://lh3.googleusercontent.com/a-/AOh14GgEyDCT_m-7oUNjEil29TuezEGtJo4Ouludo07I=s64",
      "userId": "00573594819058720023"
     },
     "user_tz": -330
    },
    "id": "WrfbhIlN0LQe"
   },
   "outputs": [],
   "source": [
    "imginput = keras.layers.Input(shape = (28,28,1))\n",
    "x = keras.layers.Conv2D(128, (3,3),padding=\"same\", activation = 'relu')(imginput)\n",
    "x = keras.layers.MaxPooling2D(pool_size = (3,3))(x)\n",
    "x = keras.layers.Dropout(0.25)(x)\n",
    "x = keras.layers.Conv2D(64, (3,3), padding=\"same\",activation = 'relu')(x)\n",
    "x = keras.layers.MaxPooling2D(pool_size = (3,3))(x)\n",
    "x = keras.layers.Dropout(0.25)(x)\n",
    "x = keras.layers.Flatten()(x)\n",
    "x = keras.layers.Dense(128, activation='relu')(x)\n",
    "x = keras.layers.Dropout(0.5)(x)\n",
    "x = keras.layers.Dense(64, activation='relu')(x)\n",
    "x = keras.layers.Dropout(0.5)(x)\n",
    "dense = keras.models.Model(imginput, x)\n",
    "\n",
    "input1 = keras.layers.Input((28,28,1))\n",
    "input2 = keras.layers.Input((28,28,1))\n",
    "\n",
    "dense1 = dense(input1)\n",
    "dense2 = dense(input2)\n",
    "\n",
    "merge_layer = keras.layers.Lambda(get_euc_dist)([dense1,dense2])\n",
    "dense_layer = keras.layers.Dense(1, activation=\"sigmoid\")(merge_layer)\n",
    "siamese = keras.models.Model(inputs=[input1, input2], outputs=dense_layer)"
   ]
  },
  {
   "cell_type": "code",
   "execution_count": 16,
   "metadata": {
    "executionInfo": {
     "elapsed": 1322,
     "status": "ok",
     "timestamp": 1618845934460,
     "user": {
      "displayName": "Zeref Vermillion",
      "photoUrl": "https://lh3.googleusercontent.com/a-/AOh14GgEyDCT_m-7oUNjEil29TuezEGtJo4Ouludo07I=s64",
      "userId": "00573594819058720023"
     },
     "user_tz": -330
    },
    "id": "lTeo35b4sxWf"
   },
   "outputs": [],
   "source": [
    "\n",
    "siamese.compile(loss = \"binary_crossentropy\" ,optimizer=\"adam\", metrics=[\"accuracy\"])"
   ]
  },
  {
   "cell_type": "code",
   "execution_count": null,
   "metadata": {
    "colab": {
     "base_uri": "https://localhost:8080/"
    },
    "id": "4r-h464s-r-c",
    "outputId": "73d724ee-29f5-41c1-fb56-7a19b48403a7"
   },
   "outputs": [
    {
     "name": "stdout",
     "output_type": "stream",
     "text": [
      "Epoch 1/10\n",
      "1629/3063 [==============>...............] - ETA: 1:10 - loss: 0.6939 - accuracy: 0.5012"
     ]
    }
   ],
   "source": [
    "siamese.fit([X_new[:,0],X_new[:,1]],Y_new,batch_size=32,epochs= 10,shuffle=True)"
   ]
  },
  {
   "cell_type": "code",
   "execution_count": null,
   "metadata": {
    "id": "2NaL8pUguFpL"
   },
   "outputs": [],
   "source": [
    "\n",
    "X_new_test,Y_new_test = get_pairs(X_test,Y_test)"
   ]
  },
  {
   "cell_type": "code",
   "execution_count": null,
   "metadata": {
    "colab": {
     "base_uri": "https://localhost:8080/"
    },
    "executionInfo": {
     "elapsed": 3996,
     "status": "ok",
     "timestamp": 1618479645681,
     "user": {
      "displayName": "Zeref Vermillion",
      "photoUrl": "https://lh3.googleusercontent.com/a-/AOh14GgEyDCT_m-7oUNjEil29TuezEGtJo4Ouludo07I=s64",
      "userId": "00573594819058720023"
     },
     "user_tz": -330
    },
    "id": "IKcYPTUd5eNH",
    "outputId": "a24e6783-4376-4cba-9454-067bac35713e"
   },
   "outputs": [
    {
     "name": "stdout",
     "output_type": "stream",
     "text": [
      "1313/1313 [==============================] - 3s 2ms/step - loss: 0.4304 - accuracy: 0.8100\n"
     ]
    },
    {
     "data": {
      "text/plain": [
       "[0.43041443824768066, 0.8100237846374512]"
      ]
     },
     "execution_count": 20,
     "metadata": {
      "tags": []
     },
     "output_type": "execute_result"
    }
   ],
   "source": [
    "siamese.evaluate([X_new_test[:,0],X_new_test[:,1]],Y_new_test[:])"
   ]
  },
  {
   "cell_type": "code",
   "execution_count": null,
   "metadata": {
    "id": "Fbi--SA-53Qe"
   },
   "outputs": [],
   "source": []
  }
 ],
 "metadata": {
  "accelerator": "GPU",
  "colab": {
   "authorship_tag": "ABX9TyNGi/Sv/quvohCwFBqEFgqy",
   "collapsed_sections": [],
   "mount_file_id": "1Xt4e41sBSN8K43zTk-jvZ622U0S8HzYu",
   "name": "q4.ipynb",
   "provenance": [
    {
     "file_id": "1Xt4e41sBSN8K43zTk-jvZ622U0S8HzYu",
     "timestamp": 1618424736920
    },
    {
     "file_id": "1KgQxIe5OWk39if6zrCwhkN7Yw0j__pi6",
     "timestamp": 1618080713550
    }
   ]
  },
  "kernelspec": {
   "display_name": "Python 3",
   "language": "python",
   "name": "python3"
  },
  "language_info": {
   "codemirror_mode": {
    "name": "ipython",
    "version": 3
   },
   "file_extension": ".py",
   "mimetype": "text/x-python",
   "name": "python",
   "nbconvert_exporter": "python",
   "pygments_lexer": "ipython3",
   "version": "3.7.6"
  }
 },
 "nbformat": 4,
 "nbformat_minor": 1
}
