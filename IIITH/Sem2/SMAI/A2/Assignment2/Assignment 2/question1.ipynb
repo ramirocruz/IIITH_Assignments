{
 "cells": [
  {
   "cell_type": "markdown",
   "metadata": {
    "id": "vpWQigP0msj9"
   },
   "source": [
    "**Part 1:** \n",
    "\n",
    "Use the **Fashion-MNIST** dataset for this question.\n",
    "\n",
    "1) Load the dataset and perform splitting into training and validation sets with 70:30 ratio.\n",
    "\n",
    "> Do we need to normalise data? [If so Does it make any difference?]\n",
    "\n",
    "2) Implement the K Means algorithm. You need to find the optimal number of clusters using the\n",
    "    elbow method and silhouette method. \n",
    "\n",
    "3) Define the initial clusters’ centroids using:</br>\n",
    "> i) Forgy</br>\n",
    "\n",
    "> ii) Random Partition\n",
    "\n",
    "4) Experiment with different distance measures[Euclidean distance, Manhattan distance].\n",
    "\n",
    "5) Plot the error vs number of clusters graph while using the elbow method and silhouette \n",
    "    method. Report the optimal number of clusters found.\n",
    "\n",
    "6) Report the training and the validation accuracy and Compare your trained model with a model trained by the scikit-learn\n",
    "\n",
    "7) Visualize the dataset to depict the clusters formed. #Prefer T-SNE\n",
    "\n",
    "8) Implement K-means++, and repeat task 1 to task 7 again.</br>\n",
    "</br>\n",
    "</br>\n",
    "</br>\n",
    "</br>\n",
    "**Part 2:**\n",
    "</br>\n",
    "In this task, you will perform operations on `[data.csv](https://drive.google.com/file/d/15NPkfXFoTkiRBlcI4ffe_Lp_BFOyf8UY/view?usp=sharing)`, data.csv is a  latent space representation of  Fashion-MNIST, before doing this task please read about latent space representation.\n",
    "\n",
    "9) Load the data.csv file and apply Kmeans and Kmeans++, You need to find the optimal number of clusters using the elbow method and silhouette method.\n",
    "\n",
    "10) Visualize the dataset to depict the clusters formed. # Prefer T-SNE\n",
    "\n",
    "11) From these experiments(Part 1 and Part 2), compare accuracy or error, and report which one is better and why?\n",
    "</br>\n",
    "</br>\n",
    "**Note:** If the model takes a lot of time to train you can use MiniBatchKMeans.\n",
    " \n",
    "\n",
    "\n"
   ]
  },
  {
   "cell_type": "code",
   "execution_count": 112,
   "metadata": {},
   "outputs": [],
   "source": [
    "import numpy as np\n",
    "import pandas as pd\n",
    "from sklearn import model_selection\n",
    "import seaborn as sns\n",
    "import matplotlib.pyplot as plt"
   ]
  },
  {
   "cell_type": "code",
   "execution_count": 228,
   "metadata": {
    "id": "yY8uMDe9quTE"
   },
   "outputs": [],
   "source": [
    "#implement elbow method from scratch\n",
    "def elbow(X):\n",
    "    km = Kmeans(X)\n",
    "    eps = []\n",
    "    for k in range(2,20):\n",
    "        eps.append(np.array(km.start(k,15)).min())\n",
    "    \n",
    "    plt.plot(list(range(2,20)),eps)"
   ]
  },
  {
   "cell_type": "code",
   "execution_count": 294,
   "metadata": {
    "id": "32x9M36qq2fO"
   },
   "outputs": [],
   "source": [
    "#implement silhouette method from scratch\n",
    "def silhouette(X):\n",
    "    km = Kmeans(X)\n",
    "    res = []\n",
    "    for k in range(2,15):\n",
    "        km.start(k,10)        \n",
    "        Ans = np.array([])\n",
    "        for key,points in km.clusters.items():\n",
    "            points = np.array(points)\n",
    "            a = (km.get_euc_dist(points,points).sum(axis = 1) )/ (len(points) - 1)\n",
    "            lis = []\n",
    "            b = np.array(np.ones(len(points)) * np.inf)\n",
    "            for k1,p in km.clusters.items():\n",
    "                if(k1 == key):\n",
    "                    continue\n",
    "                p = np.array(p)\n",
    "                b = np.amin(np.append(b.reshape(len(points),1),np.mean(km.get_euc_dist(points,p),axis = 1).reshape(len(points),1),axis=1),axis=1)\n",
    "            ans = ((b - a) / (np.amax(np.append(a.reshape(len(points),1),b.reshape(len(points),1),axis = 1),axis = 1)))\n",
    "            Ans = np.append(Ans,ans,axis=0)\n",
    "        \n",
    "        res.append(np.mean(Ans))\n",
    "    return res\n",
    "        \n",
    "                \n",
    "                    "
   ]
  },
  {
   "cell_type": "code",
   "execution_count": 226,
   "metadata": {
    "id": "AW0iiyC6qDlb"
   },
   "outputs": [],
   "source": [
    "#implement Kmeans from scratch\n",
    "class Kmeans:\n",
    "\n",
    "    def __init__(self,X):\n",
    "        self.X = self.preprocess(X.copy())\n",
    "        \n",
    "    def preprocess(self,X):\n",
    "        for x in X.T:\n",
    "            avg = x.mean()\n",
    "            xrange = np.amax(x) - np.amin(x) + 1\n",
    "            x-=avg\n",
    "            x/=xrange\n",
    "        return X\n",
    "\n",
    "    def get_centroids(self,k):\n",
    "        centroid_idx = np.random.choice(range(len(self.X)), k, replace=False)\n",
    "        self.centroid = self.X[centroid_idx]\n",
    "    \n",
    "    def get_euc_dist(self,A,B):\n",
    "        return np.sum(np.square(B),axis=1) + np.sum(np.square(A),axis=1)[:,np.newaxis] -2*np.dot(A,B.T)\n",
    "\n",
    "    def get_clusters(self):\n",
    "        nearest_clr_idx = np.argmin(self.get_euc_dist(self.X,self.centroid),axis = 1)\n",
    "        clusters = {}\n",
    "        for i in range(len(self.centroid)):\n",
    "            clusters[i] = []\n",
    "            \n",
    "        for i in range(len(nearest_clr_idx)):\n",
    "            clusters[nearest_clr_idx[i]].append(self.X[i])\n",
    "        return clusters\n",
    "    \n",
    "    def get_dist_from_centroid(self,clusters):\n",
    "        self.intra = []\n",
    "        for key,points in clusters.items():\n",
    "            points = np.array(points)\n",
    "            self.intra.append(self.get_euc_dist(points,np.array(self.centroid[key:key+1])).sum())\n",
    "        return sum(self.intra)\n",
    "            \n",
    "    def start(self,k,itr):\n",
    "        eps = []\n",
    "        self.get_centroids(k)\n",
    "        for _ in range(itr):\n",
    "            clrs = self.get_clusters()\n",
    "            eps.append(self.get_dist_from_centroid(clrs))\n",
    "            self.centroid = np.array([np.mean(clrs[cl_id], axis=0,dtype=self.X.dtype) for cl_id in sorted(clrs.keys())])\n",
    "        self.clusters = self.get_clusters()\n",
    "        eps.append(self.get_dist_from_centroid(self.clusters))\n",
    "        return eps\n",
    "        \n",
    "\n",
    "  "
   ]
  },
  {
   "cell_type": "code",
   "execution_count": null,
   "metadata": {
    "id": "h4dn0bULqg1I"
   },
   "outputs": [],
   "source": [
    "#implement Kmeans++ from scratch\n",
    "class Kmeansplusplus:\n",
    "\n",
    "  def __init__(self):\n",
    "    \n",
    "\n",
    " "
   ]
  },
  {
   "cell_type": "code",
   "execution_count": 9,
   "metadata": {
    "id": "6j7nYmipmrC6"
   },
   "outputs": [
    {
     "name": "stdout",
     "output_type": "stream",
     "text": [
      "Downloading data from https://storage.googleapis.com/tensorflow/tf-keras-datasets/train-labels-idx1-ubyte.gz\n",
      "32768/29515 [=================================] - 0s 1us/step\n",
      "Downloading data from https://storage.googleapis.com/tensorflow/tf-keras-datasets/train-images-idx3-ubyte.gz\n",
      "26427392/26421880 [==============================] - 25s 1us/step\n",
      "Downloading data from https://storage.googleapis.com/tensorflow/tf-keras-datasets/t10k-labels-idx1-ubyte.gz\n",
      "8192/5148 [===============================================] - 0s 1us/step\n",
      "Downloading data from https://storage.googleapis.com/tensorflow/tf-keras-datasets/t10k-images-idx3-ubyte.gz\n",
      "4423680/4422102 [==============================] - 4s 1us/step\n"
     ]
    }
   ],
   "source": [
    "from keras.datasets import fashion_mnist\n",
    "(trainX, trainy), (testX, testy) = fashion_mnist.load_data()"
   ]
  },
  {
   "cell_type": "code",
   "execution_count": 230,
   "metadata": {},
   "outputs": [
    {
     "data": {
      "text/plain": [
       "(60000, 784)"
      ]
     },
     "execution_count": 230,
     "metadata": {},
     "output_type": "execute_result"
    }
   ],
   "source": [
    "# trainX = np.reshape(trainX, (trainX.shape[0], trainX.shape[1]*trainX.shape[2]))\n",
    "trainX.shape"
   ]
  },
  {
   "cell_type": "code",
   "execution_count": 221,
   "metadata": {},
   "outputs": [],
   "source": [
    "indices = np.random.choice(range(60000), 3000, replace=False)"
   ]
  },
  {
   "cell_type": "code",
   "execution_count": 222,
   "metadata": {},
   "outputs": [],
   "source": [
    "tempX = trainX[indices].astype(float)\n",
    "tempY = trainy[indices].astype(float)"
   ]
  },
  {
   "cell_type": "code",
   "execution_count": 229,
   "metadata": {},
   "outputs": [
    {
     "data": {
      "image/png": "[encoded data removed]",
      "text/plain": [
       "<Figure size 432x288 with 1 Axes>"
      ]
     },
     "metadata": {
      "needs_background": "light"
     },
     "output_type": "display_data"
    }
   ],
   "source": [
    "elbow(tempX)"
   ]
  },
  {
   "cell_type": "code",
   "execution_count": 88,
   "metadata": {},
   "outputs": [],
   "source": [
    "\"\"\"\n",
    "We can see that the elbow is forming at k = 5 thus the ideal k would be 5\n",
    "\n",
    "\"\"\""
   ]
  },
  {
   "cell_type": "code",
   "execution_count": 224,
   "metadata": {},
   "outputs": [],
   "source": [
    "km = Kmeans(tempX)\n",
    "eps = km.start(5,15)"
   ]
  },
  {
   "cell_type": "code",
   "execution_count": 225,
   "metadata": {},
   "outputs": [
    {
     "data": {
      "text/plain": [
       "[<matplotlib.lines.Line2D at 0x7fbe6430ec10>]"
      ]
     },
     "execution_count": 225,
     "metadata": {},
     "output_type": "execute_result"
    },
    {
     "data": {
      "image/png": "[encoded data removed]",
      "text/plain": [
       "<Figure size 432x288 with 1 Axes>"
      ]
     },
     "metadata": {
      "needs_background": "light"
     },
     "output_type": "display_data"
    }
   ],
   "source": [
    "plt.plot(range(1,17),eps)"
   ]
  },
  {
   "cell_type": "code",
   "execution_count": 295,
   "metadata": {},
   "outputs": [
    {
     "name": "stderr",
     "output_type": "stream",
     "text": [
      "/home/zcruz/anaconda3/lib/python3.7/site-packages/ipykernel_launcher.py:10: RuntimeWarning: invalid value encountered in true_divide\n",
      "  # Remove the CWD from sys.path while we load stuff.\n"
     ]
    }
   ],
   "source": [
    "res =  silhouette(tempX)"
   ]
  },
  {
   "cell_type": "code",
   "execution_count": 297,
   "metadata": {},
   "outputs": [
    {
     "data": {
      "text/plain": [
       "[<matplotlib.lines.Line2D at 0x7fbe642b80d0>]"
      ]
     },
     "execution_count": 297,
     "metadata": {},
     "output_type": "execute_result"
    },
    {
     "data": {
      "image/png": "[encoded data removed]",
      "text/plain": [
       "<Figure size 432x288 with 1 Axes>"
      ]
     },
     "metadata": {
      "needs_background": "light"
     },
     "output_type": "display_data"
    }
   ],
   "source": [
    "plt.plot(range(2,15),res)"
   ]
  },
  {
   "cell_type": "code",
   "execution_count": null,
   "metadata": {},
   "outputs": [],
   "source": []
  }
 ],
 "metadata": {
  "colab": {
   "name": "Clustering.ipynb",
   "provenance": []
  },
  "kernelspec": {
   "display_name": "Python 3",
   "language": "python",
   "name": "python3"
  },
  "language_info": {
   "codemirror_mode": {
    "name": "ipython",
    "version": 3
   },
   "file_extension": ".py",
   "mimetype": "text/x-python",
   "name": "python",
   "nbconvert_exporter": "python",
   "pygments_lexer": "ipython3",
   "version": "3.7.6"
  }
 },
 "nbformat": 4,
 "nbformat_minor": 1
}
